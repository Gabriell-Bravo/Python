{
 "cells": [
  {
   "cell_type": "code",
   "execution_count": 11,
   "metadata": {},
   "outputs": [
    {
     "name": "stdout",
     "output_type": "stream",
     "text": [
      "True\n"
     ]
    }
   ],
   "source": [
    "\n",
    "\n",
    "def logica(a,b):\n",
    "  return a and b \n",
    "\n",
    "a = bool (input('digite um valor:'))\n",
    "b =  bool (input('digite um valor:'))\n",
    "\n",
    "resultado=(logica(a,b))\n",
    "print(resultado)\n"
   ]
  },
  {
   "cell_type": "code",
   "execution_count": 28,
   "metadata": {},
   "outputs": [
    {
     "name": "stdout",
     "output_type": "stream",
     "text": [
      "3.0\n"
     ]
    }
   ],
   "source": [
    "def area_1 ():\n",
    "  return area_1\n",
    " \n",
    "b= float(input('qual o valor da base triangulo?'))\n",
    "h= float(input('qual o valor da altura triangulo?'))\n",
    "\n",
    "resultado = b*h/2\n",
    "\n",
    "\n",
    "print(resultado)"
   ]
  },
  {
   "cell_type": "code",
   "execution_count": 48,
   "metadata": {},
   "outputs": [
    {
     "name": "stdout",
     "output_type": "stream",
     "text": [
      "25.0\n"
     ]
    }
   ],
   "source": [
    "def area_2 ():\n",
    "  return area_2\n",
    " \n",
    "b= float(input('qual o valor da base quadrado?'))\n",
    "\n",
    "\n",
    "resultado = b*b\n",
    "\n",
    "\n",
    "print(resultado)"
   ]
  },
  {
   "cell_type": "code",
   "execution_count": 52,
   "metadata": {},
   "outputs": [
    {
     "name": "stdout",
     "output_type": "stream",
     "text": [
      "314.1592653589793\n"
     ]
    }
   ],
   "source": [
    "import math\n",
    "def area_3 (raio):\n",
    "  return math.pi * math.pow(raio,2)\n",
    " \n",
    "\n",
    "resultado = area_3(10)\n",
    "\n",
    "print(resultado)"
   ]
  },
  {
   "cell_type": "code",
   "execution_count": 49,
   "metadata": {},
   "outputs": [
    {
     "name": "stdout",
     "output_type": "stream",
     "text": [
      "30.0\n"
     ]
    }
   ],
   "source": [
    "def area_4 (baseMenor, baseMaior,altura):   #trapezio\n",
    "    return ((baseMenor + baseMaior)*altura)/2\n",
    "\n",
    "resultado = area_4(5,10,4)\n",
    "print(resultado)"
   ]
  },
  {
   "cell_type": "code",
   "execution_count": 53,
   "metadata": {},
   "outputs": [
    {
     "name": "stdout",
     "output_type": "stream",
     "text": [
      "(2.0, 2.0)\n"
     ]
    }
   ],
   "source": [
    "import math\n",
    "def encontre_raizes(a,b,c):\n",
    "    delta = math.pow(b,2) - 4*a*c\n",
    "    if delta >= 0:\n",
    "        raiz1 = (-b + math.sqrt(delta))/2*a\n",
    "        raiz2 = (-b - math.sqrt(delta))/2*a\n",
    "        return raiz1, raiz2\n",
    "    else:\n",
    "        return None\n",
    "resultado = encontre_raizes(1,-4,4)\n",
    "print(resultado)\n",
    "    "
   ]
  }
 ],
 "metadata": {
  "kernelspec": {
   "display_name": "base",
   "language": "python",
   "name": "python3"
  },
  "language_info": {
   "codemirror_mode": {
    "name": "ipython",
    "version": 3
   },
   "file_extension": ".py",
   "mimetype": "text/x-python",
   "name": "python",
   "nbconvert_exporter": "python",
   "pygments_lexer": "ipython3",
   "version": "3.12.4"
  }
 },
 "nbformat": 4,
 "nbformat_minor": 2
}
