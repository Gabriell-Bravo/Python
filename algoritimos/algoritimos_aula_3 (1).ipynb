{
 "cells": [
  {
   "cell_type": "code",
   "execution_count": null,
   "metadata": {},
   "outputs": [],
   "source": [
    "#percorre a lista e imprime\n",
    "lista = [10,20,30,40]\n",
    "for i in range (len(lista)):\n",
    "    print(lista[i])\n",
    "\n"
   ]
  },
  {
   "cell_type": "code",
   "execution_count": 23,
   "metadata": {},
   "outputs": [
    {
     "name": "stdout",
     "output_type": "stream",
     "text": [
      "10\n",
      "20\n",
      "30\n",
      "40\n"
     ]
    }
   ],
   "source": [
    "#printando lista em sequencia com while\n",
    "lista = [10,20,30,40]\n",
    "i=0\n",
    "while (i<len(lista)):\n",
    "    print(lista[i])\n",
    "    i += 1\n",
    "\n",
    "#i=0 dps i=1 dps i=2 dps i=3 dps i=4 dando 4 nao sendo menor q 4\n",
    "#O i=0 vai sendo subistituido ate ser igual ou maior que 4(4 é o tamanho da lista)\n",
    "    \n",
    "\n"
   ]
  },
  {
   "cell_type": "code",
   "execution_count": 29,
   "metadata": {},
   "outputs": [
    {
     "name": "stdout",
     "output_type": "stream",
     "text": [
      "0\n",
      "10\n",
      "1\n",
      "20\n",
      "2\n",
      "30\n",
      "3\n",
      "40\n"
     ]
    }
   ],
   "source": [
    "lista = [10,20,30,40]\n",
    "i=0\n",
    "for i in range (len(lista)):\n",
    " print(i)\n",
    " print(lista[i])\n",
    "#print(i) imprime o index ou seja se i=0 imprime o 0\n",
    "#print(lista[i])imprime os elementos da lista"
   ]
  }
 ],
 "metadata": {
  "kernelspec": {
   "display_name": "base",
   "language": "python",
   "name": "python3"
  },
  "language_info": {
   "codemirror_mode": {
    "name": "ipython",
    "version": 3
   },
   "file_extension": ".py",
   "mimetype": "text/x-python",
   "name": "python",
   "nbconvert_exporter": "python",
   "pygments_lexer": "ipython3",
   "version": "3.12.4"
  }
 },
 "nbformat": 4,
 "nbformat_minor": 2
}
