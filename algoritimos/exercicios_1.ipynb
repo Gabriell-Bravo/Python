{
 "cells": [
  {
   "cell_type": "code",
   "execution_count": 1,
   "metadata": {},
   "outputs": [
    {
     "name": "stdout",
     "output_type": "stream",
     "text": [
      "ola mundo\n"
     ]
    }
   ],
   "source": [
    "print(\"ola mundo\")"
   ]
  },
  {
   "cell_type": "code",
   "execution_count": 4,
   "metadata": {},
   "outputs": [
    {
     "name": "stdout",
     "output_type": "stream",
     "text": [
      "a soma de 2.0 + 2.0 e igual a 4.0\n"
     ]
    }
   ],
   "source": [
    "numero_1 = float(input('digite um numero:'))\n",
    "numero_2 =float(input('digite outro numero:'))\n",
    "soma = numero_1 + numero_2\n",
    "\n",
    "print(f'a soma de {numero_1} + {numero_2} e igual a {soma}')\n"
   ]
  },
  {
   "cell_type": "code",
   "execution_count": 9,
   "metadata": {},
   "outputs": [
    {
     "name": "stdout",
     "output_type": "stream",
     "text": [
      "o numero 3.0 e impar\n"
     ]
    }
   ],
   "source": [
    "numero = float(input('digite um numero:'))\n",
    "if numero % 2 == 0:\n",
    "    print(f'o numero {numero} e par')\n",
    "else:\n",
    "    print(f'o numero {numero} e impar')"
   ]
  },
  {
   "cell_type": "code",
   "execution_count": 12,
   "metadata": {},
   "outputs": [
    {
     "name": "stdout",
     "output_type": "stream",
     "text": [
      "2.0\n"
     ]
    }
   ],
   "source": [
    "numero_1 = float(input('digite um numero:'))\n",
    "operacao = input('digite a operacao desejada:(+, -, *, /)')\n",
    "numero_2 = float(input('digite outro numero:'))\n",
    "\n",
    "if operacao == '+':\n",
    "    print(numero_1 + numero_2)\n",
    "elif operacao == '-':\n",
    "     print(numero_1 - numero_2)\n",
    "elif operacao == '*':\n",
    "     print(numero_1 * numero_2)\n",
    "elif operacao == '/':\n",
    "     print(numero_1 / numero_2)\n",
    "     "
   ]
  },
  {
   "cell_type": "code",
   "execution_count": 13,
   "metadata": {},
   "outputs": [
    {
     "name": "stdout",
     "output_type": "stream",
     "text": [
      "4.0\n"
     ]
    }
   ],
   "source": [
    "nota_1 = float(input('digite a nota 1'))\n",
    "nota_2 = float(input('digite a nota 2'))\n",
    "nota_3 = float(input('digite a nota 3'))\n",
    "media = (nota_1 + nota_2 + nota_3 ) / 3\n",
    "print(media)"
   ]
  },
  {
   "cell_type": "code",
   "execution_count": 14,
   "metadata": {},
   "outputs": [
    {
     "name": "stdout",
     "output_type": "stream",
     "text": [
      "73.4\n"
     ]
    }
   ],
   "source": [
    "celsius = float(input('digite a temperatura em celsius:'))\n",
    "conversao = (celsius * 1.8) + 32\n",
    "print(conversao)"
   ]
  },
  {
   "cell_type": "code",
   "execution_count": 24,
   "metadata": {},
   "outputs": [
    {
     "name": "stdout",
     "output_type": "stream",
     "text": [
      "o resultado e 24\n"
     ]
    }
   ],
   "source": [
    "import math\n",
    "\n",
    "numero = int(input('digite um numero positivo:'))\n",
    "resultado = math.factorial(numero) \n",
    "\n",
    "if numero < 0:\n",
    "    print('errro, tem que digitar um numero positivo por favor')\n",
    "else:\n",
    "    print(f'o resultado e {resultado}')"
   ]
  },
  {
   "cell_type": "code",
   "execution_count": 3,
   "metadata": {},
   "outputs": [
    {
     "name": "stdout",
     "output_type": "stream",
     "text": [
      "1\n",
      "3\n",
      "5\n",
      "7\n",
      "9\n",
      "11\n",
      "13\n",
      "15\n",
      "17\n",
      "19\n",
      "21\n",
      "23\n",
      "25\n",
      "27\n",
      "29\n",
      "31\n",
      "33\n",
      "35\n",
      "37\n",
      "39\n",
      "41\n",
      "43\n",
      "45\n",
      "47\n",
      "49\n",
      "51\n",
      "53\n",
      "55\n",
      "57\n",
      "59\n",
      "61\n",
      "63\n",
      "65\n",
      "67\n",
      "69\n",
      "71\n",
      "73\n",
      "75\n",
      "77\n",
      "79\n",
      "81\n",
      "83\n",
      "85\n",
      "87\n",
      "89\n",
      "91\n",
      "93\n",
      "95\n",
      "97\n",
      "99\n"
     ]
    }
   ],
   "source": [
    "for numero in range (1,101):\n",
    " if numero %2 != 0:\n",
    "     print(numero)"
   ]
  },
  {
   "cell_type": "code",
   "execution_count": 11,
   "metadata": {},
   "outputs": [
    {
     "name": "stdout",
     "output_type": "stream",
     "text": [
      "O número 4 não é primo.\n"
     ]
    }
   ],
   "source": [
    "# Solicita ao usuário para digitar um número\n",
    "numero = int(input(\"Digite um número: \"))\n",
    "\n",
    "if numero <= 1:\n",
    "        print(f\"O número {numero} não é primo.\")\n",
    "else:\n",
    "        primo = True\n",
    "        for i in range(2, numero):\n",
    "            if numero % i == 0:\n",
    "                primo = False\n",
    "                break\n",
    "        \n",
    "        if primo:\n",
    "            print(f\"O número {numero} é primo.\")\n",
    "        else:\n",
    "            print(f\"O número {numero} não é primo.\")\n"
   ]
  },
  {
   "cell_type": "code",
   "execution_count": 12,
   "metadata": {},
   "outputs": [
    {
     "name": "stdout",
     "output_type": "stream",
     "text": [
      "A string invertida é: io\n"
     ]
    }
   ],
   "source": [
    "\n",
    "string = input(\"Digite uma string: \")\n",
    "\n",
    "string_invertida = string[::-1]\n",
    "\n",
    "print(\"A string invertida é:\", string_invertida)\n"
   ]
  },
  {
   "cell_type": "code",
   "execution_count": 13,
   "metadata": {},
   "outputs": [
    {
     "name": "stdout",
     "output_type": "stream",
     "text": [
      "Tabuada do 4:\n",
      "4 x 1 = 4\n",
      "4 x 2 = 8\n",
      "4 x 3 = 12\n",
      "4 x 4 = 16\n",
      "4 x 5 = 20\n",
      "4 x 6 = 24\n",
      "4 x 7 = 28\n",
      "4 x 8 = 32\n",
      "4 x 9 = 36\n",
      "4 x 10 = 40\n"
     ]
    }
   ],
   "source": [
    "# Solicita ao usuário para digitar um número\n",
    "\n",
    "numero = int(input(\"Digite um número: \"))\n",
    "\n",
    "    \n",
    "print(f\"Tabuada do {numero}:\")\n",
    "for i in range(1, 11):\n",
    "        resultado = numero * i\n",
    "        print(f\"{numero} x {i} = {resultado}\")\n",
    "\n"
   ]
  },
  {
   "cell_type": "code",
   "execution_count": 1,
   "metadata": {},
   "outputs": [
    {
     "name": "stdout",
     "output_type": "stream",
     "text": [
      "A frase tem 2 vogais.\n"
     ]
    }
   ],
   "source": [
    "def contador_vogais(texto):\n",
    "  vogais = \"aeiouAEIOU\"\n",
    "  contador = 0\n",
    "\n",
    "  for letra in texto:\n",
    "    if letra in vogais:\n",
    "      contador += 1\n",
    "\n",
    "  return contador\n",
    "\n",
    "texto = input(\"Digite uma frase: \")\n",
    "num_vogais = contador_vogais(texto)\n",
    "\n",
    "print(\"A frase tem\", num_vogais, \"vogais.\")"
   ]
  },
  {
   "cell_type": "code",
   "execution_count": null,
   "metadata": {},
   "outputs": [],
   "source": [
    "numeros = [1, 2, 3, 4, 5]\n",
    "soma = sum(numeros)\n",
    "\n",
    "print(\"A soma dos números é:\", soma)\n"
   ]
  },
  {
   "cell_type": "code",
   "execution_count": null,
   "metadata": {},
   "outputs": [],
   "source": [
    "def encontrar_maior_numero(lista):\n",
    "  maior = lista[0]\n",
    "\n",
    "  for numero in lista:\n",
    "    if numero > maior:\n",
    "      maior = numero\n",
    "\n",
    "  return maior\n",
    "numeros = input(\"Digite os números separados por espaço: \")\n",
    "numeros = list(map(int, numeros.split()))\n",
    "maior_numero = encontrar_maior_numero(numeros)\n",
    "\n",
    "print(\"O maior número é:\", maior_numero)"
   ]
  },
  {
   "cell_type": "code",
   "execution_count": null,
   "metadata": {},
   "outputs": [],
   "source": [
    "def exibir_pares(lista):\n",
    "  for numero in lista:\n",
    "    if numero % 2 == 0:\n",
    "      print(numero)\n",
    "numeros = input(\"Digite os números separados por espaço: \")\n",
    "numeros = list(map(int, numeros.split()))\n",
    "\n",
    "exibir_pares(numeros)\n"
   ]
  },
  {
   "cell_type": "code",
   "execution_count": 2,
   "metadata": {},
   "outputs": [
    {
     "name": "stdout",
     "output_type": "stream",
     "text": [
      "10\n",
      "9\n",
      "8\n",
      "7\n",
      "6\n",
      "5\n",
      "4\n",
      "3\n",
      "2\n",
      "1\n",
      "0\n"
     ]
    }
   ],
   "source": [
    "for numero in range (10, -1, -1):\n",
    " print(numero)"
   ]
  },
  {
   "cell_type": "code",
   "execution_count": null,
   "metadata": {},
   "outputs": [],
   "source": [
    "def fibonacci(n):\n",
    "  fibonacci = [0, 1]\n",
    "  for numero in range(2, n):\n",
    "    fibonacci.append(fibonacci[numero-1] + fibonacci[numero-2])\n",
    "  return fibonacci\n",
    "resultado = fibonacci(10)\n",
    "\n",
    "print(resultado)\n"
   ]
  },
  {
   "cell_type": "code",
   "execution_count": null,
   "metadata": {},
   "outputs": [],
   "source": [
    "import random\n",
    "\n",
    "def lançar_moeda():\n",
    "  resultado = random.choice(['Cara', 'Coroa'])\n",
    "  return resultado\n",
    "resultado_lançamento = lançar_moeda()\n",
    "\n",
    "print(\"O resultado foi:\", resultado_lançamento)"
   ]
  },
  {
   "cell_type": "code",
   "execution_count": null,
   "metadata": {},
   "outputs": [],
   "source": [
    "def palindromo(palavra):\n",
    "  palavra = palavra.lower()\n",
    "  palavra = palavra.replace(\" \", \"\")\n",
    "  return palavra == palavra[::-1]\n",
    "\n",
    "palavra = input(\"Digite uma palavra: \")\n",
    "if palindromo(palavra):\n",
    "  print(f\"A palavra '{palavra}' é um palíndromo!\")\n",
    "else:\n",
    "  print(f\"A palavra '{palavra}' não é um palíndromo.\")\n"
   ]
  },
  {
   "cell_type": "code",
   "execution_count": null,
   "metadata": {},
   "outputs": [],
   "source": [
    "import random\n",
    "\n",
    "def jogo_adivinhacao():\n",
    "  numero_secreto = random.randint(1, 100)\n",
    "  tentativas = 0\n",
    "  print(\"Tente adivinhar o número secreto entre 1 e 100.\")\n",
    "\n",
    "  while True:\n",
    "    chute = int(input(\"Digite seu chute: \"))\n",
    "    tentativas += 1\n",
    "\n",
    "    if chute < numero_secreto:\n",
    "      print(\"O número secreto é maior.\")\n",
    "    elif chute > numero_secreto:\n",
    "      print(\"O número secreto é menor.\")\n",
    "    else:\n",
    "      print(f\"Parabéns, Você acertou em {tentativas} tentativas.\")\n",
    "      break\n",
    "\n",
    "jogo_adivinhacao()"
   ]
  }
 ],
 "metadata": {
  "kernelspec": {
   "display_name": "base",
   "language": "python",
   "name": "python3"
  },
  "language_info": {
   "codemirror_mode": {
    "name": "ipython",
    "version": 3
   },
   "file_extension": ".py",
   "mimetype": "text/x-python",
   "name": "python",
   "nbconvert_exporter": "python",
   "pygments_lexer": "ipython3",
   "version": "3.11.7"
  }
 },
 "nbformat": 4,
 "nbformat_minor": 2
}
