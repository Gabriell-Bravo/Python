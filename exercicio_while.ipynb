{
 "cells": [
  {
   "cell_type": "code",
   "execution_count": 3,
   "metadata": {},
   "outputs": [
    {
     "name": "stdout",
     "output_type": "stream",
     "text": [
      "1\n",
      "2\n",
      "3\n",
      "4\n",
      "5\n",
      "6\n",
      "7\n",
      "8\n",
      "9\n",
      "10\n",
      "11\n",
      "12\n",
      "13\n",
      "14\n",
      "15\n",
      "16\n",
      "17\n",
      "18\n",
      "19\n",
      "20\n"
     ]
    }
   ],
   "source": [
    "numero = 1\n",
    "while numero <= 20:\n",
    "    print(numero)\n",
    "    numero += 1"
   ]
  },
  {
   "cell_type": "code",
   "execution_count": 3,
   "metadata": {},
   "outputs": [],
   "source": [
    "senhas = ['certo', '123', '456']\n",
    "senha_correta = False\n",
    "while not senha_correta:\n",
    "    tentativa = input(\"Digite a senha: \")\n",
    "    if tentativa in senhas:\n",
    "        print(\"Senha correta!\")\n",
    "        senha_correta = True\n",
    "    else:\n",
    "        print(\"Senha incorreta. Tente novamente.\")"
   ]
  },
  {
   "cell_type": "code",
   "execution_count": 7,
   "metadata": {},
   "outputs": [
    {
     "name": "stdout",
     "output_type": "stream",
     "text": [
      "ggg 10000.0 m\n"
     ]
    }
   ],
   "source": [
    "nome = input(\"Digite seu nome (mais de 2 letras): \")\n",
    "while len(nome) <= 2:\n",
    "    nome = input(\"Nome inválido. Digite seu nome novamente (mais de 2 letras pf): \")\n",
    "\n",
    "salario = float(input(\"Digite seu salário: \"))\n",
    "while salario <= 0:\n",
    "    salario = float(input(\"Salário inválido. Digite seu salário novamente: \"))\n",
    "\n",
    "sexo = input(\"Digite seu sexo (m/f): \")\n",
    "while sexo.lower() not in ['m', 'f']:\n",
    "    sexo = input(\"Sexo inválido. Digite seu sexo novamente (m/f): \")\n",
    "print(nome, salario, sexo)"
   ]
  },
  {
   "cell_type": "code",
   "execution_count": 9,
   "metadata": {},
   "outputs": [
    {
     "name": "stdout",
     "output_type": "stream",
     "text": [
      "Senha gerada: 89829935\n"
     ]
    }
   ],
   "source": []
  }
 ],
 "metadata": {
  "kernelspec": {
   "display_name": "base",
   "language": "python",
   "name": "python3"
  },
  "language_info": {
   "codemirror_mode": {
    "name": "ipython",
    "version": 3
   },
   "file_extension": ".py",
   "mimetype": "text/x-python",
   "name": "python",
   "nbconvert_exporter": "python",
   "pygments_lexer": "ipython3",
   "version": "3.11.7"
  }
 },
 "nbformat": 4,
 "nbformat_minor": 2
}
