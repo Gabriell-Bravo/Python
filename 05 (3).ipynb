{
 "cells": [
  {
   "cell_type": "code",
   "execution_count": 4,
   "metadata": {},
   "outputs": [
    {
     "name": "stdout",
     "output_type": "stream",
     "text": [
      "2\n",
      "4\n",
      "6\n",
      "8\n",
      "10\n",
      "12\n",
      "14\n",
      "16\n",
      "18\n",
      "20\n"
     ]
    }
   ],
   "source": [
    "for i in range (2,21,2):\n",
    " print(i)"
   ]
  },
  {
   "cell_type": "code",
   "execution_count": 5,
   "metadata": {},
   "outputs": [
    {
     "name": "stdout",
     "output_type": "stream",
     "text": [
      "3\n",
      "6\n",
      "9\n",
      "12\n",
      "15\n"
     ]
    }
   ],
   "source": [
    "for i in range (3,16,3):\n",
    "    print(i)"
   ]
  },
  {
   "cell_type": "code",
   "execution_count": 2,
   "metadata": {},
   "outputs": [
    {
     "name": "stdout",
     "output_type": "stream",
     "text": [
      "['Japão', 'Panamá', 'Bolivia', 'Canadá', 'China', 'inglaterra', 'mexico']\n"
     ]
    }
   ],
   "source": [
    "#a)Adicione nessa lista o país Inglaterra como primeira\n",
    "#viagem.\n",
    "#b) Exclua Argentina do roteiro de viagem.\n",
    "#c) Adicione México nas viagens\n",
    "viagem = ['Japão', 'Panamá', 'Argentina', 'Bolivia'\n",
    ",'Canadá', 'China']\n",
    "lista_2 = ['inglaterra']\n",
    "viagem.extend(lista_2)\n",
    "viagem.remove('Argentina')\n",
    "viagem.insert(6,'mexico')\n",
    "print(viagem)\n"
   ]
  },
  {
   "cell_type": "code",
   "execution_count": 44,
   "metadata": {},
   "outputs": [
    {
     "name": "stdout",
     "output_type": "stream",
     "text": [
      "a quantidade de aprovados: 5\n",
      "a quantidade de reprovados: 8\n",
      "a media é: 6.08\n"
     ]
    }
   ],
   "source": [
    "notas = [0, 10, 10, 10, 9, 8, 5, 4, 2, 6, 6, 5, 4]\n",
    "reprovados=[]\n",
    "aprovados=[]\n",
    "for nota in notas:\n",
    "    if nota < 7:\n",
    "     reprovados.append(notas)\n",
    "    else:\n",
    "        aprovados.append(notas)\n",
    "media= sum(notas)/len(notas)\n",
    "qnt_aprovados= len(aprovados)\n",
    "qnt_reprovados= len(reprovados)\n",
    "\n",
    "print(f'a quantidade de aprovados: {qnt_aprovados}')\n",
    "print(f'a quantidade de reprovados: {qnt_reprovados}')\n",
    "print(f'a media é: {media:.2f}')     "
   ]
  },
  {
   "cell_type": "code",
   "execution_count": 12,
   "metadata": {},
   "outputs": [],
   "source": [
    "import pandas as pd"
   ]
  },
  {
   "cell_type": "code",
   "execution_count": 35,
   "metadata": {},
   "outputs": [
    {
     "data": {
      "text/html": [
       "<div>\n",
       "<style scoped>\n",
       "    .dataframe tbody tr th:only-of-type {\n",
       "        vertical-align: middle;\n",
       "    }\n",
       "\n",
       "    .dataframe tbody tr th {\n",
       "        vertical-align: top;\n",
       "    }\n",
       "\n",
       "    .dataframe thead th {\n",
       "        text-align: right;\n",
       "    }\n",
       "</style>\n",
       "<table border=\"1\" class=\"dataframe\">\n",
       "  <thead>\n",
       "    <tr style=\"text-align: right;\">\n",
       "      <th></th>\n",
       "      <th>Alunos</th>\n",
       "      <th>Notas</th>\n",
       "      <th>Resultado</th>\n",
       "    </tr>\n",
       "  </thead>\n",
       "  <tbody>\n",
       "    <tr>\n",
       "      <th>0</th>\n",
       "      <td>Fulano</td>\n",
       "      <td>0</td>\n",
       "      <td>Reprovado</td>\n",
       "    </tr>\n",
       "    <tr>\n",
       "      <th>1</th>\n",
       "      <td>Cilano</td>\n",
       "      <td>2</td>\n",
       "      <td>Reprovado</td>\n",
       "    </tr>\n",
       "    <tr>\n",
       "      <th>2</th>\n",
       "      <td>Beltrano</td>\n",
       "      <td>10</td>\n",
       "      <td>Aprovado</td>\n",
       "    </tr>\n",
       "    <tr>\n",
       "      <th>3</th>\n",
       "      <td>Gerlano</td>\n",
       "      <td>9</td>\n",
       "      <td>Aprovado</td>\n",
       "    </tr>\n",
       "    <tr>\n",
       "      <th>4</th>\n",
       "      <td>Marlano</td>\n",
       "      <td>8</td>\n",
       "      <td>Aprovado</td>\n",
       "    </tr>\n",
       "    <tr>\n",
       "      <th>5</th>\n",
       "      <td>Jesiano</td>\n",
       "      <td>5</td>\n",
       "      <td>Reprovado</td>\n",
       "    </tr>\n",
       "  </tbody>\n",
       "</table>\n",
       "</div>"
      ],
      "text/plain": [
       "     Alunos  Notas  Resultado\n",
       "0    Fulano      0  Reprovado\n",
       "1    Cilano      2  Reprovado\n",
       "2  Beltrano     10   Aprovado\n",
       "3   Gerlano      9   Aprovado\n",
       "4   Marlano      8   Aprovado\n",
       "5   Jesiano      5  Reprovado"
      ]
     },
     "execution_count": 35,
     "metadata": {},
     "output_type": "execute_result"
    }
   ],
   "source": [
    "df = pd.DataFrame(\n",
    "    {\"Alunos\":['Fulano', 'Cilano', 'Beltrano', 'Gerlano','Marlano', 'Jesiano'],\n",
    "     \"Notas\": [0, 2, 10, 9, 8, 5],}\n",
    ")\n",
    "df.loc[df['Notas']>=7, 'Resultado'] = 'Aprovado'\n",
    "df.loc[df['Notas']<=7, 'Resultado'] = 'Reprovado'\n",
    "df"
   ]
  },
  {
   "cell_type": "code",
   "execution_count": 1,
   "metadata": {},
   "outputs": [
    {
     "name": "stdout",
     "output_type": "stream",
     "text": [
      "Vendas por vendedores:\n",
      "-----------------------\n",
      "Hugo: 50\n",
      "Ignacio: 100\n",
      "Jony: 2\n",
      "Lion: 30\n",
      "Monica: 50\n",
      "Natalia: 3\n"
     ]
    }
   ],
   "source": [
    "vendedores = ['Hugo', 'Ignacio', 'Jony', 'Lion', 'Monica', 'Natalia']\n",
    "vendas = [50, 100, 2, 30, 50, 3]\n",
    "\n",
    "print(\"Vendas por vendedores:\")\n",
    "print('-----------------------')\n",
    "for i in range(len(vendedores)):\n",
    "    print(f\"{vendedores[i]}: {vendas[i]}\")"
   ]
  },
  {
   "cell_type": "code",
   "execution_count": 2,
   "metadata": {},
   "outputs": [
    {
     "name": "stdout",
     "output_type": "stream",
     "text": [
      "Alunos Aprovados:\n",
      "Beltrano: 10\n",
      "Gerlano: 9\n",
      "Marlano: 8\n",
      "\n",
      "Alunos Reprovados:\n",
      "Fulano: 0\n",
      "Cilano: 2\n",
      "Jesiano: 5\n"
     ]
    }
   ],
   "source": [
    "notas = [0, 2, 10, 9, 8, 5]\n",
    "alunos = ['Fulano', 'Cilano', 'Beltrano', 'Gerlano', 'Marlano', 'Jesiano']\n",
    "\n",
    "aprovados = []\n",
    "reprovados = []\n",
    "\n",
    "limite_aprovacao = 6\n",
    "\n",
    "for i in range(len(alunos)):\n",
    "    if notas[i] >= limite_aprovacao:\n",
    "        aprovados.append((alunos[i], notas[i]))\n",
    "    else:\n",
    "        reprovados.append((alunos[i], notas[i]))\n",
    "\n",
    "print(\"Alunos Aprovados:\")\n",
    "for aluno, nota in aprovados:\n",
    "    print(f\"{aluno}: {nota}\")\n",
    "\n",
    "print(\"\\nAlunos Reprovados:\")\n",
    "for aluno, nota in reprovados:\n",
    "    print(f\"{aluno}: {nota}\")"
   ]
  }
 ],
 "metadata": {
  "kernelspec": {
   "display_name": "base",
   "language": "python",
   "name": "python3"
  },
  "language_info": {
   "codemirror_mode": {
    "name": "ipython",
    "version": 3
   },
   "file_extension": ".py",
   "mimetype": "text/x-python",
   "name": "python",
   "nbconvert_exporter": "python",
   "pygments_lexer": "ipython3",
   "version": "3.11.7"
  }
 },
 "nbformat": 4,
 "nbformat_minor": 2
}
